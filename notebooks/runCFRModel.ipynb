{
 "cells": [
  {
   "cell_type": "code",
   "execution_count": 1,
   "metadata": {},
   "outputs": [],
   "source": [
    "import time\n",
    "import os\n",
    "import numpy as np\n",
    "from echoai_pet_measurements.runCFRModel import runCFRModel"
   ]
  },
  {
   "cell_type": "code",
   "execution_count": 2,
   "metadata": {},
   "outputs": [
    {
     "name": "stdout",
     "output_type": "stream",
     "text": [
      "1/1 [==============================] - 0s 827us/step\n",
      "[-0.3420744]\n",
      "Code ran  5.4 seconds.\n"
     ]
    }
   ],
   "source": [
    "#%% test function\n",
    "deltaX = 0.03667\n",
    "deltaY = 0.03367\n",
    "frame_time_ms = 30\n",
    "\n",
    "project_dir = os.path.join(os.environ['HOME'], 'data', 'cfrmodel')\n",
    "datafile_short = os.path.join(project_dir, 'random_short.npy')\n",
    "\n",
    "start_time = time.time()\n",
    "with open(datafile_short, 'rb') as f:\n",
    "    data = np.load(f)\n",
    "\n",
    "predictions = runCFRModel(data=data,\n",
    "                          frame_time_ms=frame_time_ms,\n",
    "                          deltaX=deltaX,\n",
    "                          deltaY=deltaY)\n",
    "\n",
    "t = time.time() - start_time\n",
    "print(predictions)\n",
    "print(f'Code ran {t: .1f} seconds.')"
   ]
  }
 ],
 "metadata": {
  "kernelspec": {
   "display_name": "Python 3",
   "language": "python",
   "name": "python3"
  },
  "language_info": {
   "codemirror_mode": {
    "name": "ipython",
    "version": 3
   },
   "file_extension": ".py",
   "mimetype": "text/x-python",
   "name": "python",
   "nbconvert_exporter": "python",
   "pygments_lexer": "ipython3",
   "version": "3.7.8"
  }
 },
 "nbformat": 4,
 "nbformat_minor": 4
}
