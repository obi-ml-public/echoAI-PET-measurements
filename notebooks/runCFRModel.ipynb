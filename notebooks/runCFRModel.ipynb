{
 "cells": [
  {
   "cell_type": "code",
   "execution_count": 38,
   "metadata": {},
   "outputs": [],
   "source": [
    "import os\n",
    "import numpy as np\n",
    "from echoai_pet_measurements.runCFRModel import runCFRModel\n",
    "\n",
    "from matplotlib import pyplot as plt"
   ]
  },
  {
   "cell_type": "code",
   "execution_count": 59,
   "metadata": {},
   "outputs": [
    {
     "name": "stdout",
     "output_type": "stream",
     "text": [
      "1/1 [==============================] - 0s 688us/step\n",
      "[-0.3420744]\n"
     ]
    }
   ],
   "source": [
    "#%% test function\n",
    "deltaX = 0.03667\n",
    "deltaY = 0.03367\n",
    "frame_time_ms = 30\n",
    "\n",
    "project_dir = os.path.join(os.environ['HOME'], 'data', 'cfrmodel')\n",
    "#REAL ECHO\n",
    "#datafile = os.path.join(project_dir, 'echo.npy')\n",
    "# RANDOM VIDEO\n",
    "datafile_short = os.path.join(project_dir, 'random_short.npy')\n",
    "with open(datafile_short, 'rb') as f:\n",
    "    data = np.load(f)\n",
    "\n",
    "predictions = runCFRModel(data=data,\n",
    "                          frame_time_ms=frame_time_ms,\n",
    "                          deltaX=deltaX,\n",
    "                          deltaY=deltaY)\n",
    "print(predictions)"
   ]
  }
 ],
 "metadata": {
  "kernelspec": {
   "display_name": "Python 3",
   "language": "python",
   "name": "python3"
  },
  "language_info": {
   "codemirror_mode": {
    "name": "ipython",
    "version": 3
   },
   "file_extension": ".py",
   "mimetype": "text/x-python",
   "name": "python",
   "nbconvert_exporter": "python",
   "pygments_lexer": "ipython3",
   "version": "3.7.7"
  }
 },
 "nbformat": 4,
 "nbformat_minor": 4
}
