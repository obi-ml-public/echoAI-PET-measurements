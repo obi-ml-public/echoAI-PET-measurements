{
 "cells": [
  {
   "cell_type": "code",
   "execution_count": 1,
   "metadata": {},
   "outputs": [],
   "source": [
    "import time\n",
    "import os\n",
    "import numpy as np\n",
    "from PIL import Image\n",
    "import random\n",
    "\n",
    "from IPython.core.display import display, HTML\n",
    "display(HTML(\"<style>.container { width:100% !important; }</style>\"))\n",
    "\n",
    "%load_ext autoreload\n",
    "%autoreload 2\n",
    "from echoai_pet_measurements.runCFRModel import runCFRModel"
   ]
  },
  {
   "cell_type": "markdown",
   "metadata": {},
   "source": [
    "### Generate a random video ###"
   ]
  },
  {
   "cell_type": "code",
   "execution_count": 2,
   "metadata": {},
   "outputs": [
    {
     "name": "stdout",
     "output_type": "stream",
     "text": [
      "Shape of input echo video file: (75, 768, 1024, 1)\n"
     ]
    }
   ],
   "source": [
    "width = 1024\n",
    "height = 768\n",
    "nframes = 75\n",
    "\n",
    "def drawImage():\n",
    "    np.random.seed(123)\n",
    "    testImage = Image.new(\"L\", (width, height), color=0)\n",
    "    pixel = testImage.load()\n",
    "    for x in range(width):\n",
    "        for y in range(height):\n",
    "            gray = random.randrange(0,255)\n",
    "            pixel[x,y]=gray\n",
    "    return testImage\n",
    "\n",
    "data_generated = np.expand_dims(np.stack([drawImage()]*nframes, axis=0), axis=3)\n",
    "print(f'Shape of input echo video file: {data_generated.shape}')"
   ]
  },
  {
   "cell_type": "markdown",
   "metadata": {},
   "source": [
    "### Initialize new model weights and predict on random input video ###"
   ]
  },
  {
   "cell_type": "code",
   "execution_count": 4,
   "metadata": {},
   "outputs": [
    {
     "name": "stdout",
     "output_type": "stream",
     "text": [
      "No weights provided for rest_global_mbf. Initializing new model.\n",
      "1/1 [==============================] - 0s 2ms/step\n",
      "([0], {'rest_global_mbf': [0.0006952453]})\n",
      "Code ran  4.3 seconds.\n"
     ]
    }
   ],
   "source": [
    "#%% test function\n",
    "deltaX = 0.03667\n",
    "deltaY = 0.03367\n",
    "frame_time_ms = 30\n",
    "\n",
    "\n",
    "start_time = time.time()\n",
    "\n",
    "predictions = runCFRModel(data_array_list=[data_generated],\n",
    "                          frame_time_ms_list=[frame_time_ms],\n",
    "                          deltaX_list=[deltaX],\n",
    "                          deltaY_list=[deltaY])\n",
    "\n",
    "t = time.time() - start_time\n",
    "\n",
    "print(predictions)\n",
    "print(f'Code ran {t: .1f} seconds.')"
   ]
  }
 ],
 "metadata": {
  "kernelspec": {
   "display_name": "Python 3",
   "language": "python",
   "name": "python3"
  },
  "language_info": {
   "codemirror_mode": {
    "name": "ipython",
    "version": 3
   },
   "file_extension": ".py",
   "mimetype": "text/x-python",
   "name": "python",
   "nbconvert_exporter": "python",
   "pygments_lexer": "ipython3",
   "version": "3.7.7"
  }
 },
 "nbformat": 4,
 "nbformat_minor": 4
}
